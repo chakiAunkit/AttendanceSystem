{
 "cells": [
  {
   "cell_type": "code",
   "execution_count": 42,
   "metadata": {},
   "outputs": [],
   "source": [
    "import numpy as np\n",
    "import cv2\n",
    "import os\n",
    "import face_recognition\n",
    "from datetime import datetime"
   ]
  },
  {
   "cell_type": "code",
   "execution_count": 31,
   "metadata": {},
   "outputs": [],
   "source": [
    "def show_image(image):\n",
    "    cv2.imshow('XYZ', image)\n",
    "    cv2.waitKey(0)\n",
    "    cv2.destroyAllWindows()"
   ]
  },
  {
   "cell_type": "code",
   "execution_count": 32,
   "metadata": {},
   "outputs": [
    {
     "name": "stdout",
     "output_type": "stream",
     "text": [
      "['Aunkit Chaki.jpg', 'Sherlock Holmes.jpg', 'Walter White.jpg']\n"
     ]
    }
   ],
   "source": [
    "path = 'images'\n",
    "images = []\n",
    "names = []\n",
    "myList = os.listdir(path)\n",
    "print(myList)"
   ]
  },
  {
   "cell_type": "code",
   "execution_count": 33,
   "metadata": {},
   "outputs": [
    {
     "name": "stdout",
     "output_type": "stream",
     "text": [
      "['Aunkit Chaki', 'Sherlock Holmes', 'Walter White']\n"
     ]
    }
   ],
   "source": [
    "for file in myList:\n",
    "    current = cv2.imread(f'{path}/{file}')\n",
    "    images.append(current)\n",
    "    names.append(os.path.splitext(file)[0])\n",
    "print(names)"
   ]
  },
  {
   "cell_type": "code",
   "execution_count": 34,
   "metadata": {},
   "outputs": [],
   "source": [
    "def find_encodings(images):\n",
    "    encoded_list = []\n",
    "    for image in images:\n",
    "        image = cv2.cvtColor(image, cv2.COLOR_BGR2RGB)\n",
    "        encode = face_recognition.face_encodings(image)[0]\n",
    "        encoded_list.append(encode)\n",
    "    \n",
    "    return encoded_list"
   ]
  },
  {
   "cell_type": "code",
   "execution_count": 35,
   "metadata": {},
   "outputs": [],
   "source": [
    "encoding_known = find_encodings(images)"
   ]
  },
  {
   "cell_type": "code",
   "execution_count": 45,
   "metadata": {},
   "outputs": [],
   "source": [
    "def attendance(name):\n",
    "    with open('attendance_list.csv', 'r+') as f:\n",
    "        my_list = f.readlines()\n",
    "        name_list = []\n",
    "        for line in my_list:\n",
    "            entry = line.split(',')\n",
    "            name_list.append(entry[0])\n",
    "        \n",
    "        if(name not in name_list):\n",
    "            now = datetime.now()\n",
    "            time = now.strftime('%H:%M:%S')\n",
    "            f.writelines(f'\\n{name},{time}')\n",
    "\n",
    "attendance('Aunkit')"
   ]
  },
  {
   "cell_type": "code",
   "execution_count": 41,
   "metadata": {},
   "outputs": [
    {
     "name": "stdout",
     "output_type": "stream",
     "text": [
      "AUNKIT CHAKI\n",
      "AUNKIT CHAKI\n",
      "AUNKIT CHAKI\n",
      "AUNKIT CHAKI\n",
      "AUNKIT CHAKI\n",
      "AUNKIT CHAKI\n",
      "AUNKIT CHAKI\n",
      "AUNKIT CHAKI\n",
      "AUNKIT CHAKI\n",
      "AUNKIT CHAKI\n",
      "AUNKIT CHAKI\n",
      "AUNKIT CHAKI\n",
      "AUNKIT CHAKI\n",
      "AUNKIT CHAKI\n",
      "AUNKIT CHAKI\n",
      "AUNKIT CHAKI\n",
      "AUNKIT CHAKI\n",
      "AUNKIT CHAKI\n",
      "AUNKIT CHAKI\n",
      "AUNKIT CHAKI\n",
      "AUNKIT CHAKI\n"
     ]
    }
   ],
   "source": [
    "cap = cv2.VideoCapture(0)\n",
    "\n",
    "while True:\n",
    "    \n",
    "    _, img = cap.read()\n",
    "    \n",
    "    if cv2.waitKey(1) & 0xFF == ord('q'):\n",
    "        break\n",
    "        \n",
    "    img_small = cv2.resize(img, (0,0), None, 0.50, 0.50)\n",
    "    img_small = cv2.cvtColor(img_small, cv2.COLOR_BGR2RGB)\n",
    "    \n",
    "    faces_current = face_recognition.face_locations(img_small)\n",
    "    encode_current = face_recognition.face_encodings(img_small, faces_current)\n",
    "    \n",
    "    for encodeF, faceLoc in zip(encode_current, faces_current):\n",
    "        matches = face_recognition.compare_faces(encoding_known, encodeF)\n",
    "        face_dis = face_recognition.face_distance(encoding_known, encodeF)\n",
    "        matched_index = np.argmin(face_dis)\n",
    "        \n",
    "        if matches[matched_index]:\n",
    "            name = names[matched_index].upper()\n",
    "            #print(name)\n",
    "            y1, x2, y2, x1 = faceLoc\n",
    "            y1, x2, y2, x1 = y1*2, x2*2, y2*2, x1*2\n",
    "            cv2.rectangle(img, (x1+10, y1+10), (x2+10, y2+8), (0,255,0),2)\n",
    "            cv2.rectangle(img,(x1+8, y2-20), (x2+7, y2+8), (0,255,0), cv2.FILLED)\n",
    "            cv2.putText(img, name, (x1+10, y2-3), cv2.FONT_HERSHEY_COMPLEX, 0.5, (255,255,255), 1)\n",
    "            \n",
    "    cv2.imshow('frame', img)\n",
    "            \n",
    "cap.release()\n",
    "cv2.destroyAllWindows()"
   ]
  }
 ],
 "metadata": {
  "kernelspec": {
   "display_name": "Python 3",
   "language": "python",
   "name": "python3"
  },
  "language_info": {
   "codemirror_mode": {
    "name": "ipython",
    "version": 3
   },
   "file_extension": ".py",
   "mimetype": "text/x-python",
   "name": "python",
   "nbconvert_exporter": "python",
   "pygments_lexer": "ipython3",
   "version": "3.7.6"
  }
 },
 "nbformat": 4,
 "nbformat_minor": 4
}
